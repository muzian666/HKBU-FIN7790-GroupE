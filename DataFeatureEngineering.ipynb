{
  "nbformat": 4,
  "nbformat_minor": 0,
  "metadata": {
    "colab": {
      "provenance": [],
      "collapsed_sections": [
        "0sGbZeaPMANw",
        "nN22oZ9xNW_r",
        "3EWv8x2zMG_V",
        "1vv0AvJPQ8nS",
        "cqM1VWOiMUQU",
        "ShS7LwB9R5-m",
        "lPR0iRZRfDwy",
        "e8x6LWKzhYO2",
        "-uUuYqx5iVEd"
      ]
    },
    "kernelspec": {
      "name": "python3",
      "display_name": "Python 3"
    },
    "language_info": {
      "name": "python"
    }
  },
  "cells": [
    {
      "cell_type": "markdown",
      "source": [
        "# Step 0: Download the Data"
      ],
      "metadata": {
        "id": "0sGbZeaPMANw"
      }
    },
    {
      "cell_type": "code",
      "execution_count": 2,
      "metadata": {
        "colab": {
          "base_uri": "https://localhost:8080/"
        },
        "id": "VaItXO4aL5OR",
        "outputId": "12727d34-7c34-4bc7-a5f8-e9d047c52a57"
      },
      "outputs": [
        {
          "output_type": "stream",
          "name": "stdout",
          "text": [
            "--2024-03-03 08:47:44--  https://fss.pass3exceed4.com/FIN7790GroupProject_SHh5bb.zip\n",
            "Resolving fss.pass3exceed4.com (fss.pass3exceed4.com)... 43.134.239.248\n",
            "Connecting to fss.pass3exceed4.com (fss.pass3exceed4.com)|43.134.239.248|:443... connected.\n",
            "HTTP request sent, awaiting response... 200 OK\n",
            "Length: 1416350 (1.4M) [application/zip]\n",
            "Saving to: ‘FIN7790GroupProject_SHh5bb.zip’\n",
            "\n",
            "FIN7790GroupProject 100%[===================>]   1.35M  1.31MB/s    in 1.0s    \n",
            "\n",
            "2024-03-03 08:47:46 (1.31 MB/s) - ‘FIN7790GroupProject_SHh5bb.zip’ saved [1416350/1416350]\n",
            "\n"
          ]
        }
      ],
      "source": [
        "# Download file\n",
        "!wget https://fss.pass3exceed4.com/FIN7790GroupProject_SHh5bb.zip\n",
        "\n",
        "# Unzip the download file\n",
        "import zipfile\n",
        "\n",
        "f = zipfile.ZipFile(\"./FIN7790GroupProject_SHh5bb.zip\",'r')\n",
        "for file in f.namelist():\n",
        "    f.extract(file,\"./\")\n",
        "f.close()"
      ]
    },
    {
      "cell_type": "markdown",
      "source": [
        "# Step 1: Data Prepare - Label Encoding"
      ],
      "metadata": {
        "id": "nN22oZ9xNW_r"
      }
    },
    {
      "cell_type": "code",
      "source": [
        "from sklearn.preprocessing import LabelEncoder\n",
        "from imblearn.over_sampling import SMOTE\n",
        "import pandas as pd\n",
        "import json\n",
        "from tqdm import tqdm\n",
        "\n",
        "# Load Data\n",
        "df = pd.read_csv(r\"/content/FIN7790 Group Project/train.csv\")\n",
        "\n",
        "le_dict = {}\n",
        "\n",
        "# Encoded categorical column\n",
        "df_encoded = df.copy()\n",
        "categorical_cols = df.select_dtypes(include=['object']).columns.tolist()\n",
        "for col in tqdm(categorical_cols, desc='Label Encoding....'):\n",
        "    le = LabelEncoder()\n",
        "    df_encoded[col] = le.fit_transform(df_encoded[col])\n",
        "    le_dict[col] = le\n",
        "\n",
        "print(\"Label Encoding Finished.\")\n",
        "\n",
        "# Save the encoded dataset\n",
        "df_encoded.to_csv('Encoded_train_data.csv', index=False)\n",
        "\n",
        "# Gather encoding mapping information\n",
        "encoded_mappings = {}\n",
        "for col in tqdm(categorical_cols, desc='Creating Mapping Json...'):\n",
        "    le = le_dict[col]\n",
        "    encoded_mappings[col] = list(le.classes_)\n",
        "\n",
        "# Save encoding mapping information as a JSON file\n",
        "with open('encoded_mappings.json', 'w') as f:\n",
        "    json.dump(encoded_mappings, f)\n",
        "\n",
        "print(\"\\nMapping JSON file created finished.\")"
      ],
      "metadata": {
        "colab": {
          "base_uri": "https://localhost:8080/"
        },
        "id": "EVJCnr7uNWcA",
        "outputId": "e0395eb7-b0eb-447e-9a66-856c44babdeb"
      },
      "execution_count": 3,
      "outputs": [
        {
          "output_type": "stream",
          "name": "stderr",
          "text": [
            "Label Encoding....: 100%|██████████| 4/4 [00:00<00:00, 270.83it/s]\n"
          ]
        },
        {
          "output_type": "stream",
          "name": "stdout",
          "text": [
            "Label Encoding Finished.\n"
          ]
        },
        {
          "output_type": "stream",
          "name": "stderr",
          "text": [
            "Creating Mapping Json...: 100%|██████████| 4/4 [00:00<00:00, 16627.57it/s]"
          ]
        },
        {
          "output_type": "stream",
          "name": "stdout",
          "text": [
            "\n",
            "Mapping JSON file created finished.\n"
          ]
        },
        {
          "output_type": "stream",
          "name": "stderr",
          "text": [
            "\n"
          ]
        }
      ]
    },
    {
      "cell_type": "markdown",
      "source": [
        "# Step 2: Correlation Calculation for All Value"
      ],
      "metadata": {
        "id": "3EWv8x2zMG_V"
      }
    },
    {
      "cell_type": "code",
      "source": [
        "import pandas as pd\n",
        "\n",
        "train = pd.read_csv(r\"Encoded_train_data.csv\")\n",
        "\n",
        "float_columns = train.select_dtypes(include=['float', 'int']).columns\n",
        "correlation_matrix = train[float_columns].corr()\n",
        "\n",
        "for col in train[float_columns].columns:\n",
        "  target_column = col\n",
        "  target_correlation = correlation_matrix[target_column]\n",
        "  target_correlation = target_correlation.drop(target_column, axis=0)\n",
        "  highest_corr_column = target_correlation.idxmax()\n",
        "  highest_corr_value = target_correlation.max()\n",
        "  if highest_corr_value > 0.0001:\n",
        "    print(f\"The column with the highest correlation to '{target_column}' is '{highest_corr_column}' with a correlation coefficient of {highest_corr_value}.\")"
      ],
      "metadata": {
        "colab": {
          "base_uri": "https://localhost:8080/"
        },
        "id": "zMWpZ1QzMNyk",
        "outputId": "48a25d85-c663-4e96-d7e1-a29e28b4700b"
      },
      "execution_count": 8,
      "outputs": [
        {
          "output_type": "stream",
          "name": "stdout",
          "text": [
            "The column with the highest correlation to 'Id' is 'Q10_OPERATING_INCOME' with a correlation coefficient of 0.07601448321909797.\n",
            "The column with the highest correlation to 'industry' is 'sector' with a correlation coefficient of 0.21633335047243568.\n",
            "The column with the highest correlation to 'sector' is 'industry' with a correlation coefficient of 0.21633335047243568.\n",
            "The column with the highest correlation to 'fullTimeEmployees' is 'totalRevenue' with a correlation coefficient of 0.6470607026312295.\n",
            "The column with the highest correlation to 'auditRisk' is 'overallRisk' with a correlation coefficient of 0.5276372666910631.\n",
            "The column with the highest correlation to 'boardRisk' is 'overallRisk' with a correlation coefficient of 0.779076916487778.\n",
            "The column with the highest correlation to 'compensationRisk' is 'overallRisk' with a correlation coefficient of 0.7730192502607067.\n",
            "The column with the highest correlation to 'shareHolderRightsRisk' is 'overallRisk' with a correlation coefficient of 0.725694834360079.\n",
            "The column with the highest correlation to 'overallRisk' is 'boardRisk' with a correlation coefficient of 0.779076916487778.\n",
            "The column with the highest correlation to 'trailingPE' is 'boardRisk' with a correlation coefficient of 0.09369206095343277.\n",
            "The column with the highest correlation to 'forwardPE' is 'trailingPE' with a correlation coefficient of 0.0843548025753338.\n",
            "The column with the highest correlation to 'floatShares' is 'sharesOutstanding' with a correlation coefficient of 0.9985654047416511.\n",
            "The column with the highest correlation to 'sharesOutstanding' is 'floatShares' with a correlation coefficient of 0.9985654047416511.\n",
            "The column with the highest correlation to 'trailingEps' is 'forwardEps' with a correlation coefficient of 0.35572364124009725.\n",
            "The column with the highest correlation to 'forwardEps' is 'targetLowPrice' with a correlation coefficient of 0.8762749373992643.\n",
            "The column with the highest correlation to 'targetHighPrice' is 'targetMeanPrice' with a correlation coefficient of 0.994908174216692.\n",
            "The column with the highest correlation to 'targetLowPrice' is 'targetMeanPrice' with a correlation coefficient of 0.9944191586337607.\n",
            "The column with the highest correlation to 'targetMeanPrice' is 'targetMedianPrice' with a correlation coefficient of 0.9996203950862024.\n",
            "The column with the highest correlation to 'targetMedianPrice' is 'targetMeanPrice' with a correlation coefficient of 0.9996203950862024.\n",
            "The column with the highest correlation to 'recommendationMean' is 'Q7_COST_OF_REVENUES' with a correlation coefficient of 0.10530696312227823.\n",
            "The column with the highest correlation to 'recommendationKey' is 'financialCurrency' with a correlation coefficient of 0.4552402301433384.\n",
            "The column with the highest correlation to 'numberOfAnalystOpinions' is 'floatShares' with a correlation coefficient of 0.46622486491662557.\n",
            "The column with the highest correlation to 'totalCash' is 'operatingCashflow' with a correlation coefficient of 0.7731240348596884.\n",
            "The column with the highest correlation to 'totalCashPerShare' is 'targetMeanPrice' with a correlation coefficient of 0.6422043328365507.\n",
            "The column with the highest correlation to 'ebitda' is 'operatingCashflow' with a correlation coefficient of 0.9601323547627721.\n",
            "The column with the highest correlation to 'totalDebt' is 'Q6_TOTAL_NONCURRENT_ASSETS' with a correlation coefficient of 0.8857722599628525.\n",
            "The column with the highest correlation to 'totalRevenue' is 'Q5_REVENUES' with a correlation coefficient of 0.940954274358279.\n",
            "The column with the highest correlation to 'revenuePerShare' is 'forwardEps' with a correlation coefficient of 0.5232965712611973.\n",
            "The column with the highest correlation to 'freeCashflow' is 'operatingCashflow' with a correlation coefficient of 0.8200889324775458.\n",
            "The column with the highest correlation to 'operatingCashflow' is 'ebitda' with a correlation coefficient of 0.9601323547627721.\n",
            "The column with the highest correlation to 'revenueGrowth' is 'trailingPE' with a correlation coefficient of 0.040422320689659196.\n",
            "The column with the highest correlation to 'financialCurrency' is 'Q4_NET_INCOME' with a correlation coefficient of 0.5198353019777217.\n",
            "The column with the highest correlation to 'Q0_TOTAL_ASSETS' is 'Q0_TOTAL_LIABILITIES' with a correlation coefficient of 0.9399089417839992.\n",
            "The column with the highest correlation to 'Q0_TOTAL_LIABILITIES' is 'Q0_TOTAL_ASSETS' with a correlation coefficient of 0.9399089417839992.\n",
            "The column with the highest correlation to 'Q0_TOTAL_STOCKHOLDERS_EQUITY' is 'Q0_TOTAL_ASSETS' with a correlation coefficient of 0.868607358664035.\n",
            "The column with the highest correlation to 'Q0_GROSS_PROFIT' is 'Q1_GROSS_PROFIT' with a correlation coefficient of 0.9920054514246535.\n",
            "The column with the highest correlation to 'Q0_COST_OF_REVENUES' is 'Q1_COST_OF_REVENUES' with a correlation coefficient of 0.9825984306678486.\n",
            "The column with the highest correlation to 'Q0_REVENUES' is 'Q1_REVENUES' with a correlation coefficient of 0.9871442367819047.\n",
            "The column with the highest correlation to 'Q0_OPERATING_INCOME' is 'ebitda' with a correlation coefficient of 0.9192445673112433.\n",
            "The column with the highest correlation to 'Q0_OPERATING_EXPENSES' is 'Q1_OPERATING_EXPENSES' with a correlation coefficient of 0.9915620129103723.\n",
            "The column with the highest correlation to 'Q0_EBITDA' is 'Q1_EBITDA' with a correlation coefficient of 0.979540086570229.\n",
            "The column with the highest correlation to 'Q0_fiscal_year_end' is 'Q4_NET_INCOME' with a correlation coefficient of 0.5748629724627676.\n",
            "The column with the highest correlation to 'Q1_TOTAL_ASSETS' is 'Q1_TOTAL_LIABILITIES_AND_EQUITY' with a correlation coefficient of 1.0.\n",
            "The column with the highest correlation to 'Q1_TOTAL_CURRENT_ASSETS' is 'Q5_TOTAL_CURRENT_ASSETS' with a correlation coefficient of 0.9892361536732398.\n",
            "The column with the highest correlation to 'Q1_TOTAL_NONCURRENT_ASSETS' is 'Q5_TOTAL_NONCURRENT_ASSETS' with a correlation coefficient of 0.9971474667940052.\n",
            "The column with the highest correlation to 'Q1_TOTAL_LIABILITIES' is 'Q5_TOTAL_LIABILITIES' with a correlation coefficient of 0.9949600390706532.\n",
            "The column with the highest correlation to 'Q1_TOTAL_CURRENT_LIABILITIES' is 'Q5_TOTAL_CURRENT_LIABILITIES' with a correlation coefficient of 0.9907908550995862.\n",
            "The column with the highest correlation to 'Q1_TOTAL_NONCURRENT_LIABILITIES' is 'Q5_TOTAL_NONCURRENT_LIABILITIES' with a correlation coefficient of 0.991250618355739.\n",
            "The column with the highest correlation to 'Q1_TOTAL_LIABILITIES_AND_EQUITY' is 'Q1_TOTAL_ASSETS' with a correlation coefficient of 1.0.\n",
            "The column with the highest correlation to 'Q1_TOTAL_STOCKHOLDERS_EQUITY' is 'Q5_TOTAL_STOCKHOLDERS_EQUITY' with a correlation coefficient of 0.9941997471092852.\n",
            "The column with the highest correlation to 'Q1_NET_INCOME' is 'Q1_OPERATING_INCOME' with a correlation coefficient of 0.9622494878770751.\n",
            "The column with the highest correlation to 'Q1_GROSS_PROFIT' is 'Q0_GROSS_PROFIT' with a correlation coefficient of 0.9920054514246535.\n",
            "The column with the highest correlation to 'Q1_COST_OF_REVENUES' is 'Q0_COST_OF_REVENUES' with a correlation coefficient of 0.9825984306678486.\n",
            "The column with the highest correlation to 'Q1_REVENUES' is 'Q0_REVENUES' with a correlation coefficient of 0.9871442367819047.\n",
            "The column with the highest correlation to 'Q1_OPERATING_INCOME' is 'Q1_NET_INCOME' with a correlation coefficient of 0.9622494878770751.\n",
            "The column with the highest correlation to 'Q1_OPERATING_EXPENSES' is 'Q0_OPERATING_EXPENSES' with a correlation coefficient of 0.9915620129103723.\n",
            "The column with the highest correlation to 'Q1_EBITDA' is 'Q0_EBITDA' with a correlation coefficient of 0.979540086570229.\n",
            "The column with the highest correlation to 'Q1_DEPRECIATION_AND_AMORTIZATION' is 'Q5_DEPRECIATION_AND_AMORTIZATION' with a correlation coefficient of 0.9784673163065167.\n",
            "The column with the highest correlation to 'Q1_fiscal_year_end' is 'Q5_fiscal_year_end' with a correlation coefficient of 0.4252167991844977.\n",
            "The column with the highest correlation to 'Q2_TOTAL_ASSETS' is 'Q2_TOTAL_LIABILITIES_AND_EQUITY' with a correlation coefficient of 0.9999815835349872.\n",
            "The column with the highest correlation to 'Q2_TOTAL_CURRENT_ASSETS' is 'Q2_TOTAL_CURRENT_LIABILITIES' with a correlation coefficient of 0.9498141944126545.\n",
            "The column with the highest correlation to 'Q2_TOTAL_NONCURRENT_ASSETS' is 'Q2_TOTAL_ASSETS' with a correlation coefficient of 0.9701669744016457.\n",
            "The column with the highest correlation to 'Q2_TOTAL_LIABILITIES' is 'Q2_TOTAL_NONCURRENT_LIABILITIES' with a correlation coefficient of 0.9686172981156995.\n",
            "The column with the highest correlation to 'Q2_TOTAL_CURRENT_LIABILITIES' is 'Q2_TOTAL_CURRENT_ASSETS' with a correlation coefficient of 0.9498141944126545.\n",
            "The column with the highest correlation to 'Q2_TOTAL_NONCURRENT_LIABILITIES' is 'Q2_TOTAL_LIABILITIES' with a correlation coefficient of 0.9686172981156995.\n",
            "The column with the highest correlation to 'Q2_TOTAL_LIABILITIES_AND_EQUITY' is 'Q2_TOTAL_ASSETS' with a correlation coefficient of 0.9999815835349872.\n",
            "The column with the highest correlation to 'Q2_TOTAL_STOCKHOLDERS_EQUITY' is 'Q6_TOTAL_STOCKHOLDERS_EQUITY' with a correlation coefficient of 0.9490372389511442.\n",
            "The column with the highest correlation to 'Q2_NET_INCOME' is 'Q2_OPERATING_INCOME' with a correlation coefficient of 0.9205923450411395.\n",
            "The column with the highest correlation to 'Q2_GROSS_PROFIT' is 'Q1_GROSS_PROFIT' with a correlation coefficient of 0.9700914021202808.\n",
            "The column with the highest correlation to 'Q2_COST_OF_REVENUES' is 'Q1_COST_OF_REVENUES' with a correlation coefficient of 0.9794758185396215.\n",
            "The column with the highest correlation to 'Q2_REVENUES' is 'Q1_REVENUES' with a correlation coefficient of 0.9828152916319929.\n",
            "The column with the highest correlation to 'Q2_OPERATING_INCOME' is 'Q2_NET_INCOME' with a correlation coefficient of 0.9205923450411395.\n",
            "The column with the highest correlation to 'Q2_OPERATING_EXPENSES' is 'Q0_OPERATING_EXPENSES' with a correlation coefficient of 0.9912453060935101.\n",
            "The column with the highest correlation to 'Q2_EBITDA' is 'Q1_EBITDA' with a correlation coefficient of 0.9389912618991361.\n",
            "The column with the highest correlation to 'Q2_DEPRECIATION_AND_AMORTIZATION' is 'Q1_DEPRECIATION_AND_AMORTIZATION' with a correlation coefficient of 0.9620871041469248.\n",
            "The column with the highest correlation to 'Q2_fiscal_year_end' is 'Q10_REVENUES' with a correlation coefficient of 0.3375587949345053.\n",
            "The column with the highest correlation to 'Q3_TOTAL_ASSETS' is 'Q3_TOTAL_LIABILITIES_AND_EQUITY' with a correlation coefficient of 1.0000000000000007.\n",
            "The column with the highest correlation to 'Q3_TOTAL_CURRENT_ASSETS' is 'Q7_TOTAL_CURRENT_ASSETS' with a correlation coefficient of 0.9724936915463077.\n",
            "The column with the highest correlation to 'Q3_TOTAL_NONCURRENT_ASSETS' is 'Q7_TOTAL_NONCURRENT_ASSETS' with a correlation coefficient of 0.9753924859893549.\n",
            "The column with the highest correlation to 'Q3_TOTAL_LIABILITIES' is 'Q3_TOTAL_NONCURRENT_LIABILITIES' with a correlation coefficient of 0.9773614795745029.\n",
            "The column with the highest correlation to 'Q3_TOTAL_CURRENT_LIABILITIES' is 'Q7_TOTAL_CURRENT_LIABILITIES' with a correlation coefficient of 0.9694229264260614.\n",
            "The column with the highest correlation to 'Q3_TOTAL_NONCURRENT_LIABILITIES' is 'Q3_TOTAL_LIABILITIES' with a correlation coefficient of 0.9773614795745029.\n",
            "The column with the highest correlation to 'Q3_TOTAL_LIABILITIES_AND_EQUITY' is 'Q3_TOTAL_ASSETS' with a correlation coefficient of 1.0000000000000007.\n",
            "The column with the highest correlation to 'Q3_TOTAL_STOCKHOLDERS_EQUITY' is 'Q7_TOTAL_STOCKHOLDERS_EQUITY' with a correlation coefficient of 0.9719772491335223.\n",
            "The column with the highest correlation to 'Q3_NET_INCOME' is 'Q3_OPERATING_INCOME' with a correlation coefficient of 0.9344733376894204.\n",
            "The column with the highest correlation to 'Q3_GROSS_PROFIT' is 'Q5_GROSS_PROFIT' with a correlation coefficient of 0.9336196934078371.\n",
            "The column with the highest correlation to 'Q3_COST_OF_REVENUES' is 'Q7_COST_OF_REVENUES' with a correlation coefficient of 0.9252230386298809.\n",
            "The column with the highest correlation to 'Q3_REVENUES' is 'Q2_REVENUES' with a correlation coefficient of 0.9421971836073069.\n",
            "The column with the highest correlation to 'Q3_OPERATING_INCOME' is 'Q3_NET_INCOME' with a correlation coefficient of 0.9344733376894204.\n",
            "The column with the highest correlation to 'Q3_OPERATING_EXPENSES' is 'Q2_OPERATING_EXPENSES' with a correlation coefficient of 0.9656241993629707.\n",
            "The column with the highest correlation to 'Q3_EBITDA' is 'Q5_EBITDA' with a correlation coefficient of 0.9071687604259224.\n",
            "The column with the highest correlation to 'Q3_DEPRECIATION_AND_AMORTIZATION' is 'Q5_DEPRECIATION_AND_AMORTIZATION' with a correlation coefficient of 0.9580377361696711.\n",
            "The column with the highest correlation to 'Q3_fiscal_year_end' is 'Q7_fiscal_year_end' with a correlation coefficient of 0.7089495725083695.\n",
            "The column with the highest correlation to 'Q4_TOTAL_ASSETS' is 'Q4_TOTAL_LIABILITIES_AND_EQUITY' with a correlation coefficient of 1.0.\n",
            "The column with the highest correlation to 'Q4_TOTAL_CURRENT_ASSETS' is 'Q6_TOTAL_CURRENT_ASSETS' with a correlation coefficient of 0.9766678354441174.\n",
            "The column with the highest correlation to 'Q4_TOTAL_NONCURRENT_ASSETS' is 'Q4_TOTAL_ASSETS' with a correlation coefficient of 0.9747630596842944.\n",
            "The column with the highest correlation to 'Q4_TOTAL_LIABILITIES' is 'Q4_TOTAL_NONCURRENT_LIABILITIES' with a correlation coefficient of 0.9755873689113873.\n",
            "The column with the highest correlation to 'Q4_TOTAL_CURRENT_LIABILITIES' is 'Q4_TOTAL_CURRENT_ASSETS' with a correlation coefficient of 0.9574940887409551.\n",
            "The column with the highest correlation to 'Q4_TOTAL_NONCURRENT_LIABILITIES' is 'Q4_TOTAL_LIABILITIES' with a correlation coefficient of 0.9755873689113873.\n",
            "The column with the highest correlation to 'Q4_TOTAL_LIABILITIES_AND_EQUITY' is 'Q4_TOTAL_ASSETS' with a correlation coefficient of 1.0.\n",
            "The column with the highest correlation to 'Q4_TOTAL_STOCKHOLDERS_EQUITY' is 'Q6_TOTAL_STOCKHOLDERS_EQUITY' with a correlation coefficient of 0.9655200661934376.\n",
            "The column with the highest correlation to 'Q4_NET_INCOME' is 'Q4_OPERATING_INCOME' with a correlation coefficient of 0.9892330126169773.\n",
            "The column with the highest correlation to 'Q4_GROSS_PROFIT' is 'Q8_GROSS_PROFIT' with a correlation coefficient of 0.9821491366671348.\n",
            "The column with the highest correlation to 'Q4_COST_OF_REVENUES' is 'Q8_COST_OF_REVENUES' with a correlation coefficient of 0.9820285602729911.\n",
            "The column with the highest correlation to 'Q4_REVENUES' is 'Q8_REVENUES' with a correlation coefficient of 0.987357516680769.\n",
            "The column with the highest correlation to 'Q4_OPERATING_INCOME' is 'Q4_NET_INCOME' with a correlation coefficient of 0.9892330126169773.\n",
            "The column with the highest correlation to 'Q4_OPERATING_EXPENSES' is 'Q8_OPERATING_EXPENSES' with a correlation coefficient of 0.9729283373083595.\n",
            "The column with the highest correlation to 'Q4_EBITDA' is 'Q8_EBITDA' with a correlation coefficient of 0.9616723165049814.\n",
            "The column with the highest correlation to 'Q4_DEPRECIATION_AND_AMORTIZATION' is 'Q5_DEPRECIATION_AND_AMORTIZATION' with a correlation coefficient of 0.9718333166383377.\n",
            "The column with the highest correlation to 'Q4_fiscal_year_end' is 'Q0_fiscal_year_end' with a correlation coefficient of 0.3404729619364987.\n",
            "The column with the highest correlation to 'Q5_TOTAL_ASSETS' is 'Q5_TOTAL_LIABILITIES_AND_EQUITY' with a correlation coefficient of 1.0.\n",
            "The column with the highest correlation to 'Q5_TOTAL_CURRENT_ASSETS' is 'Q1_TOTAL_CURRENT_ASSETS' with a correlation coefficient of 0.9892361536732398.\n",
            "The column with the highest correlation to 'Q5_TOTAL_NONCURRENT_ASSETS' is 'Q1_TOTAL_NONCURRENT_ASSETS' with a correlation coefficient of 0.9971474667940052.\n",
            "The column with the highest correlation to 'Q5_TOTAL_LIABILITIES' is 'Q1_TOTAL_LIABILITIES' with a correlation coefficient of 0.9949600390706532.\n",
            "The column with the highest correlation to 'Q5_TOTAL_CURRENT_LIABILITIES' is 'Q1_TOTAL_CURRENT_LIABILITIES' with a correlation coefficient of 0.9907908550995862.\n",
            "The column with the highest correlation to 'Q5_TOTAL_NONCURRENT_LIABILITIES' is 'Q1_TOTAL_NONCURRENT_LIABILITIES' with a correlation coefficient of 0.991250618355739.\n",
            "The column with the highest correlation to 'Q5_TOTAL_LIABILITIES_AND_EQUITY' is 'Q5_TOTAL_ASSETS' with a correlation coefficient of 1.0.\n",
            "The column with the highest correlation to 'Q5_TOTAL_STOCKHOLDERS_EQUITY' is 'Q1_TOTAL_STOCKHOLDERS_EQUITY' with a correlation coefficient of 0.9941997471092852.\n",
            "The column with the highest correlation to 'Q5_NET_INCOME' is 'Q5_OPERATING_INCOME' with a correlation coefficient of 0.9567989104868871.\n",
            "The column with the highest correlation to 'Q5_GROSS_PROFIT' is 'Q1_GROSS_PROFIT' with a correlation coefficient of 0.9563451517855578.\n",
            "The column with the highest correlation to 'Q5_COST_OF_REVENUES' is 'Q1_COST_OF_REVENUES' with a correlation coefficient of 0.9623628538868374.\n",
            "The column with the highest correlation to 'Q5_REVENUES' is 'Q1_REVENUES' with a correlation coefficient of 0.9605925266851567.\n",
            "The column with the highest correlation to 'Q5_OPERATING_INCOME' is 'Q5_NET_INCOME' with a correlation coefficient of 0.9567989104868871.\n",
            "The column with the highest correlation to 'Q5_OPERATING_EXPENSES' is 'Q2_OPERATING_EXPENSES' with a correlation coefficient of 0.9835538929920107.\n",
            "The column with the highest correlation to 'Q5_EBITDA' is 'Q6_EBITDA' with a correlation coefficient of 0.9243580662545547.\n",
            "The column with the highest correlation to 'Q5_DEPRECIATION_AND_AMORTIZATION' is 'Q6_DEPRECIATION_AND_AMORTIZATION' with a correlation coefficient of 0.9848448415426072.\n",
            "The column with the highest correlation to 'Q5_fiscal_year_end' is 'Q1_fiscal_year_end' with a correlation coefficient of 0.4252167991844977.\n",
            "The column with the highest correlation to 'Q6_TOTAL_ASSETS' is 'Q6_TOTAL_LIABILITIES_AND_EQUITY' with a correlation coefficient of 0.9999999644504841.\n",
            "The column with the highest correlation to 'Q6_TOTAL_CURRENT_ASSETS' is 'Q8_TOTAL_CURRENT_ASSETS' with a correlation coefficient of 0.9879926882033876.\n",
            "The column with the highest correlation to 'Q6_TOTAL_NONCURRENT_ASSETS' is 'Q8_TOTAL_NONCURRENT_ASSETS' with a correlation coefficient of 0.9933690609189697.\n",
            "The column with the highest correlation to 'Q6_TOTAL_LIABILITIES' is 'Q8_TOTAL_LIABILITIES' with a correlation coefficient of 0.9934462998617666.\n",
            "The column with the highest correlation to 'Q6_TOTAL_CURRENT_LIABILITIES' is 'Q8_TOTAL_CURRENT_LIABILITIES' with a correlation coefficient of 0.9920991846836825.\n",
            "The column with the highest correlation to 'Q6_TOTAL_NONCURRENT_LIABILITIES' is 'Q8_TOTAL_NONCURRENT_LIABILITIES' with a correlation coefficient of 0.9891611696430471.\n",
            "The column with the highest correlation to 'Q6_TOTAL_LIABILITIES_AND_EQUITY' is 'Q6_TOTAL_ASSETS' with a correlation coefficient of 0.9999999644504841.\n",
            "The column with the highest correlation to 'Q6_TOTAL_STOCKHOLDERS_EQUITY' is 'Q8_TOTAL_STOCKHOLDERS_EQUITY' with a correlation coefficient of 0.985219603941053.\n",
            "The column with the highest correlation to 'Q6_NET_INCOME' is 'Q6_OPERATING_INCOME' with a correlation coefficient of 0.939965695995452.\n",
            "The column with the highest correlation to 'Q6_GROSS_PROFIT' is 'Q10_GROSS_PROFIT' with a correlation coefficient of 0.9113411485000581.\n",
            "The column with the highest correlation to 'Q6_COST_OF_REVENUES' is 'Q10_COST_OF_REVENUES' with a correlation coefficient of 0.9861192961806267.\n",
            "The column with the highest correlation to 'Q6_REVENUES' is 'Q10_REVENUES' with a correlation coefficient of 0.9775995943676218.\n",
            "The column with the highest correlation to 'Q6_OPERATING_INCOME' is 'Q6_NET_INCOME' with a correlation coefficient of 0.939965695995452.\n",
            "The column with the highest correlation to 'Q6_OPERATING_EXPENSES' is 'Q10_OPERATING_EXPENSES' with a correlation coefficient of 0.9708199193587173.\n",
            "The column with the highest correlation to 'Q6_EBITDA' is 'Q5_EBITDA' with a correlation coefficient of 0.9243580662545547.\n",
            "The column with the highest correlation to 'Q6_DEPRECIATION_AND_AMORTIZATION' is 'Q5_DEPRECIATION_AND_AMORTIZATION' with a correlation coefficient of 0.9848448415426072.\n",
            "The column with the highest correlation to 'Q6_fiscal_year_end' is 'Q2_fiscal_year_end' with a correlation coefficient of 0.3321167647806016.\n",
            "The column with the highest correlation to 'Q7_TOTAL_ASSETS' is 'Q7_TOTAL_LIABILITIES_AND_EQUITY' with a correlation coefficient of 0.9999973745191851.\n",
            "The column with the highest correlation to 'Q7_TOTAL_CURRENT_ASSETS' is 'Q3_TOTAL_CURRENT_ASSETS' with a correlation coefficient of 0.9724936915463077.\n",
            "The column with the highest correlation to 'Q7_TOTAL_NONCURRENT_ASSETS' is 'Q3_TOTAL_NONCURRENT_ASSETS' with a correlation coefficient of 0.9753924859893549.\n",
            "The column with the highest correlation to 'Q7_TOTAL_LIABILITIES' is 'Q7_TOTAL_NONCURRENT_LIABILITIES' with a correlation coefficient of 0.9817601913999241.\n",
            "The column with the highest correlation to 'Q7_TOTAL_CURRENT_LIABILITIES' is 'Q3_TOTAL_CURRENT_LIABILITIES' with a correlation coefficient of 0.9694229264260614.\n",
            "The column with the highest correlation to 'Q7_TOTAL_NONCURRENT_LIABILITIES' is 'Q7_TOTAL_LIABILITIES' with a correlation coefficient of 0.9817601913999241.\n",
            "The column with the highest correlation to 'Q7_TOTAL_LIABILITIES_AND_EQUITY' is 'Q7_TOTAL_ASSETS' with a correlation coefficient of 0.9999973745191851.\n",
            "The column with the highest correlation to 'Q7_TOTAL_STOCKHOLDERS_EQUITY' is 'Q3_TOTAL_STOCKHOLDERS_EQUITY' with a correlation coefficient of 0.9719772491335223.\n",
            "The column with the highest correlation to 'Q7_NET_INCOME' is 'Q7_OPERATING_INCOME' with a correlation coefficient of 0.9521140970398269.\n",
            "The column with the highest correlation to 'Q7_GROSS_PROFIT' is 'Q7_REVENUES' with a correlation coefficient of 0.8179131646846532.\n",
            "The column with the highest correlation to 'Q7_COST_OF_REVENUES' is 'Q3_COST_OF_REVENUES' with a correlation coefficient of 0.9252230386298809.\n",
            "The column with the highest correlation to 'Q7_REVENUES' is 'Q7_COST_OF_REVENUES' with a correlation coefficient of 0.8846167218552557.\n",
            "The column with the highest correlation to 'Q7_OPERATING_INCOME' is 'Q7_NET_INCOME' with a correlation coefficient of 0.9521140970398269.\n",
            "The column with the highest correlation to 'Q7_OPERATING_EXPENSES' is 'Q9_EBITDA' with a correlation coefficient of 0.6982358323725245.\n",
            "The column with the highest correlation to 'Q7_EBITDA' is 'Q7_DEPRECIATION_AND_AMORTIZATION' with a correlation coefficient of 0.9831532757922549.\n",
            "The column with the highest correlation to 'Q7_DEPRECIATION_AND_AMORTIZATION' is 'Q7_EBITDA' with a correlation coefficient of 0.9831532757922549.\n",
            "The column with the highest correlation to 'Q7_fiscal_year_end' is 'Q3_fiscal_year_end' with a correlation coefficient of 0.7089495725083695.\n",
            "The column with the highest correlation to 'Q8_TOTAL_ASSETS' is 'Q8_TOTAL_LIABILITIES_AND_EQUITY' with a correlation coefficient of 0.9999999986382461.\n",
            "The column with the highest correlation to 'Q8_TOTAL_CURRENT_ASSETS' is 'Q9_TOTAL_CURRENT_ASSETS' with a correlation coefficient of 0.9969472998936444.\n",
            "The column with the highest correlation to 'Q8_TOTAL_NONCURRENT_ASSETS' is 'Q9_TOTAL_NONCURRENT_ASSETS' with a correlation coefficient of 0.99774347566763.\n",
            "The column with the highest correlation to 'Q8_TOTAL_LIABILITIES' is 'Q9_TOTAL_LIABILITIES' with a correlation coefficient of 0.997216322892937.\n",
            "The column with the highest correlation to 'Q8_TOTAL_CURRENT_LIABILITIES' is 'Q9_TOTAL_CURRENT_LIABILITIES' with a correlation coefficient of 0.997642806749919.\n",
            "The column with the highest correlation to 'Q8_TOTAL_NONCURRENT_LIABILITIES' is 'Q9_TOTAL_NONCURRENT_LIABILITIES' with a correlation coefficient of 0.9954507944493229.\n",
            "The column with the highest correlation to 'Q8_TOTAL_LIABILITIES_AND_EQUITY' is 'Q8_TOTAL_ASSETS' with a correlation coefficient of 0.9999999986382461.\n",
            "The column with the highest correlation to 'Q8_TOTAL_STOCKHOLDERS_EQUITY' is 'Q9_TOTAL_STOCKHOLDERS_EQUITY' with a correlation coefficient of 0.997624282363772.\n",
            "The column with the highest correlation to 'Q8_NET_INCOME' is 'Q8_OPERATING_INCOME' with a correlation coefficient of 0.9757594751895164.\n",
            "The column with the highest correlation to 'Q8_GROSS_PROFIT' is 'Q4_GROSS_PROFIT' with a correlation coefficient of 0.9821491366671348.\n",
            "The column with the highest correlation to 'Q8_COST_OF_REVENUES' is 'Q4_COST_OF_REVENUES' with a correlation coefficient of 0.9820285602729911.\n",
            "The column with the highest correlation to 'Q8_REVENUES' is 'Q4_REVENUES' with a correlation coefficient of 0.987357516680769.\n",
            "The column with the highest correlation to 'Q8_OPERATING_INCOME' is 'Q8_NET_INCOME' with a correlation coefficient of 0.9757594751895164.\n",
            "The column with the highest correlation to 'Q8_OPERATING_EXPENSES' is 'Q4_OPERATING_EXPENSES' with a correlation coefficient of 0.9729283373083595.\n",
            "The column with the highest correlation to 'Q8_EBITDA' is 'Q4_EBITDA' with a correlation coefficient of 0.9616723165049814.\n",
            "The column with the highest correlation to 'Q8_DEPRECIATION_AND_AMORTIZATION' is 'Q4_DEPRECIATION_AND_AMORTIZATION' with a correlation coefficient of 0.960555593738285.\n",
            "The column with the highest correlation to 'Q8_fiscal_year_end' is 'Q4_fiscal_year_end' with a correlation coefficient of 0.31495947732526725.\n",
            "The column with the highest correlation to 'Q9_TOTAL_ASSETS' is 'Q9_TOTAL_LIABILITIES_AND_EQUITY' with a correlation coefficient of 0.9999999690346418.\n",
            "The column with the highest correlation to 'Q9_TOTAL_CURRENT_ASSETS' is 'Q8_TOTAL_CURRENT_ASSETS' with a correlation coefficient of 0.9969472998936444.\n",
            "The column with the highest correlation to 'Q9_TOTAL_NONCURRENT_ASSETS' is 'Q10_TOTAL_NONCURRENT_ASSETS' with a correlation coefficient of 0.9995725482030567.\n",
            "The column with the highest correlation to 'Q9_TOTAL_LIABILITIES' is 'Q10_TOTAL_LIABILITIES' with a correlation coefficient of 0.9995021742905609.\n",
            "The column with the highest correlation to 'Q9_TOTAL_CURRENT_LIABILITIES' is 'Q8_TOTAL_CURRENT_LIABILITIES' with a correlation coefficient of 0.997642806749919.\n",
            "The column with the highest correlation to 'Q9_TOTAL_NONCURRENT_LIABILITIES' is 'Q10_TOTAL_NONCURRENT_LIABILITIES' with a correlation coefficient of 0.9971316479675234.\n",
            "The column with the highest correlation to 'Q9_TOTAL_LIABILITIES_AND_EQUITY' is 'Q9_TOTAL_ASSETS' with a correlation coefficient of 0.9999999690346418.\n",
            "The column with the highest correlation to 'Q9_TOTAL_STOCKHOLDERS_EQUITY' is 'Q8_TOTAL_STOCKHOLDERS_EQUITY' with a correlation coefficient of 0.997624282363772.\n",
            "The column with the highest correlation to 'Q9_NET_INCOME' is 'Q9_OPERATING_INCOME' with a correlation coefficient of 0.8477328070823597.\n",
            "The column with the highest correlation to 'Q9_GROSS_PROFIT' is 'Q9_REVENUES' with a correlation coefficient of 0.8195267967522428.\n",
            "The column with the highest correlation to 'Q9_COST_OF_REVENUES' is 'Q9_REVENUES' with a correlation coefficient of 0.9238519128578393.\n",
            "The column with the highest correlation to 'Q9_REVENUES' is 'Q9_COST_OF_REVENUES' with a correlation coefficient of 0.9238519128578393.\n",
            "The column with the highest correlation to 'Q9_OPERATING_INCOME' is 'Q9_NET_INCOME' with a correlation coefficient of 0.8477328070823597.\n",
            "The column with the highest correlation to 'Q9_OPERATING_EXPENSES' is 'Q2_OPERATING_EXPENSES' with a correlation coefficient of 0.9155778905433622.\n",
            "The column with the highest correlation to 'Q9_EBITDA' is 'Q10_EBITDA' with a correlation coefficient of 0.947464436003581.\n",
            "The column with the highest correlation to 'Q9_DEPRECIATION_AND_AMORTIZATION' is 'Q10_DEPRECIATION_AND_AMORTIZATION' with a correlation coefficient of 0.973361155354776.\n",
            "The column with the highest correlation to 'Q9_fiscal_year_end' is 'revenuePerShare' with a correlation coefficient of 0.07618613983713327.\n",
            "The column with the highest correlation to 'Q10_TOTAL_ASSETS' is 'Q10_TOTAL_LIABILITIES_AND_EQUITY' with a correlation coefficient of 0.9983548262589718.\n",
            "The column with the highest correlation to 'Q10_TOTAL_CURRENT_ASSETS' is 'Q9_TOTAL_CURRENT_ASSETS' with a correlation coefficient of 0.9957678714000149.\n",
            "The column with the highest correlation to 'Q10_TOTAL_NONCURRENT_ASSETS' is 'Q9_TOTAL_NONCURRENT_ASSETS' with a correlation coefficient of 0.9995725482030567.\n",
            "The column with the highest correlation to 'Q10_TOTAL_LIABILITIES' is 'Q9_TOTAL_LIABILITIES' with a correlation coefficient of 0.9995021742905609.\n",
            "The column with the highest correlation to 'Q10_TOTAL_CURRENT_LIABILITIES' is 'Q9_TOTAL_CURRENT_LIABILITIES' with a correlation coefficient of 0.9900341040009004.\n",
            "The column with the highest correlation to 'Q10_TOTAL_NONCURRENT_LIABILITIES' is 'Q9_TOTAL_NONCURRENT_LIABILITIES' with a correlation coefficient of 0.9971316479675234.\n",
            "The column with the highest correlation to 'Q10_TOTAL_LIABILITIES_AND_EQUITY' is 'Q9_TOTAL_LIABILITIES_AND_EQUITY' with a correlation coefficient of 0.9994354646988269.\n",
            "The column with the highest correlation to 'Q10_TOTAL_STOCKHOLDERS_EQUITY' is 'Q9_TOTAL_STOCKHOLDERS_EQUITY' with a correlation coefficient of 0.9967202025019932.\n",
            "The column with the highest correlation to 'Q10_NET_INCOME' is 'Q10_OPERATING_INCOME' with a correlation coefficient of 0.9552607822662206.\n",
            "The column with the highest correlation to 'Q10_GROSS_PROFIT' is 'Q6_GROSS_PROFIT' with a correlation coefficient of 0.9113411485000581.\n",
            "The column with the highest correlation to 'Q10_COST_OF_REVENUES' is 'Q6_COST_OF_REVENUES' with a correlation coefficient of 0.9861192961806267.\n",
            "The column with the highest correlation to 'Q10_REVENUES' is 'Q6_REVENUES' with a correlation coefficient of 0.9775995943676218.\n",
            "The column with the highest correlation to 'Q10_OPERATING_INCOME' is 'Q10_NET_INCOME' with a correlation coefficient of 0.9552607822662206.\n",
            "The column with the highest correlation to 'Q10_OPERATING_EXPENSES' is 'Q6_OPERATING_EXPENSES' with a correlation coefficient of 0.9708199193587173.\n",
            "The column with the highest correlation to 'Q10_EBITDA' is 'Q9_EBITDA' with a correlation coefficient of 0.947464436003581.\n",
            "The column with the highest correlation to 'Q10_DEPRECIATION_AND_AMORTIZATION' is 'Q9_DEPRECIATION_AND_AMORTIZATION' with a correlation coefficient of 0.973361155354776.\n",
            "The column with the highest correlation to 'Q10_fiscal_year_end' is 'numberOfAnalystOpinions' with a correlation coefficient of 0.021647640079190015.\n"
          ]
        }
      ]
    },
    {
      "cell_type": "markdown",
      "source": [
        "# Sub Step 2: Correlation After Drop the Current Drop List"
      ],
      "metadata": {
        "id": "1vv0AvJPQ8nS"
      }
    },
    {
      "cell_type": "code",
      "source": [
        "import pandas as pd\n",
        "\n",
        "train = pd.read_csv(r\"Encoded_train_data.csv\")\n",
        "\n",
        "train = train.drop(columns_to_drop, axis=1)\n",
        "\n",
        "float_columns = train.select_dtypes(include=['float', 'int']).columns\n",
        "correlation_matrix = train[float_columns].corr()\n",
        "\n",
        "for col in train[float_columns].columns:\n",
        "  target_column = col\n",
        "  target_correlation = correlation_matrix[target_column]\n",
        "  target_correlation = target_correlation.drop(target_column, axis=0)\n",
        "  highest_corr_column = target_correlation.idxmax()\n",
        "  highest_corr_value = target_correlation.max()\n",
        "  if highest_corr_value > 0.0001:\n",
        "    print(f\"The column with the highest correlation to '{target_column}' is '{highest_corr_column}' with a correlation coefficient of {highest_corr_value}.\")"
      ],
      "metadata": {
        "id": "FkKJsyWiRGdj"
      },
      "execution_count": null,
      "outputs": []
    },
    {
      "cell_type": "markdown",
      "source": [
        "# Step 3.1: Baseline calculate\n",
        "\n",
        "In this part, we using <keyborad> HistGradientBoostingRegressor </keyboard> to calculate the R2 for the 9 target element to build the base line.\n"
      ],
      "metadata": {
        "id": "cqM1VWOiMUQU"
      }
    },
    {
      "cell_type": "code",
      "source": [
        "import pandas as pd\n",
        "import numpy as np"
      ],
      "metadata": {
        "id": "F9PtG1qeMSgy"
      },
      "execution_count": 9,
      "outputs": []
    },
    {
      "cell_type": "code",
      "source": [
        "df = train = pd.read_csv(r\"Encoded_train_data.csv\")"
      ],
      "metadata": {
        "id": "aM0-v1O0MykM"
      },
      "execution_count": 10,
      "outputs": []
    },
    {
      "cell_type": "code",
      "source": [
        "target_columns = ['Q0_TOTAL_ASSETS',\n",
        " 'Q0_TOTAL_LIABILITIES',\n",
        " 'Q0_TOTAL_STOCKHOLDERS_EQUITY',\n",
        " 'Q0_GROSS_PROFIT',\n",
        " 'Q0_COST_OF_REVENUES',\n",
        " 'Q0_REVENUES',\n",
        " 'Q0_OPERATING_INCOME',\n",
        " 'Q0_OPERATING_EXPENSES',\n",
        " 'Q0_EBITDA']"
      ],
      "metadata": {
        "id": "XogSPufEMz2V"
      },
      "execution_count": 11,
      "outputs": []
    },
    {
      "cell_type": "code",
      "source": [
        "columns_to_drop = []"
      ],
      "metadata": {
        "id": "bUYCmdmdM1zI"
      },
      "execution_count": 12,
      "outputs": []
    },
    {
      "cell_type": "code",
      "source": [
        "import numpy as np\n",
        "from sklearn.model_selection import train_test_split\n",
        "from sklearn.experimental import enable_hist_gradient_boosting\n",
        "from sklearn.ensemble import HistGradientBoostingRegressor\n",
        "from sklearn.metrics import mean_squared_error, r2_score\n",
        "import warnings\n",
        "\n",
        "warnings.filterwarnings(\"ignore\")\n",
        "\n",
        "result_1 = []\n",
        "\n",
        "for i in target_columns:\n",
        "  print(f\"Current Target is {i}\")\n",
        "\n",
        "  X = train.drop(list(target_columns), axis=1)\n",
        "  X = pd.get_dummies(X)\n",
        "  y = train[i]\n",
        "\n",
        "  X_train, X_test, y_train, y_test = train_test_split(X, y, test_size=0.2, random_state=42)\n",
        "\n",
        "  model = HistGradientBoostingRegressor(max_iter=100, learning_rate=0.1, random_state=42)\n",
        "  model.fit(X_train, y_train)\n",
        "\n",
        "  y_pred = model.predict(X_test)\n",
        "\n",
        "  # 计算均方误差 (MSE)\n",
        "  mse = mean_squared_error(y_test, y_pred)\n",
        "  print(f\"Mean Squared Error (MSE): {mse}\")\n",
        "\n",
        "  # 计算均方根误差 (RMSE)\n",
        "  rmse = np.sqrt(mse)\n",
        "  print(f\"Root Mean Squared Error (RMSE): {rmse}\")\n",
        "\n",
        "  # 计算 R² 分数\n",
        "  r2 = r2_score(y_test, y_pred)\n",
        "  print(f\"R² Score: {r2}\")\n",
        "  print(\"----------------------------------------\")\n",
        "  result_1.append({\n",
        "      \"Target Element\": i,\n",
        "      \"R2\": r2\n",
        "  })"
      ],
      "metadata": {
        "colab": {
          "base_uri": "https://localhost:8080/"
        },
        "id": "1O1XDNqRM4Hi",
        "outputId": "bcd32516-97f7-4027-8607-87cd77699633"
      },
      "execution_count": 13,
      "outputs": [
        {
          "output_type": "stream",
          "name": "stderr",
          "text": [
            "/usr/local/lib/python3.10/dist-packages/sklearn/experimental/enable_hist_gradient_boosting.py:16: UserWarning: Since version 1.0, it is not needed to import enable_hist_gradient_boosting anymore. HistGradientBoostingClassifier and HistGradientBoostingRegressor are now stable and can be normally imported from sklearn.ensemble.\n",
            "  warnings.warn(\n"
          ]
        },
        {
          "output_type": "stream",
          "name": "stdout",
          "text": [
            "Current Target is Q0_TOTAL_ASSETS\n",
            "Mean Squared Error (MSE): 2.9286895043241947e+19\n",
            "Root Mean Squared Error (RMSE): 5411736786.212163\n",
            "R² Score: 0.9277629396435301\n",
            "----------------------------------------\n",
            "Current Target is Q0_TOTAL_LIABILITIES\n",
            "Mean Squared Error (MSE): 1.1493490431581387e+19\n",
            "Root Mean Squared Error (RMSE): 3390205072.2015896\n",
            "R² Score: 0.9102645365949589\n",
            "----------------------------------------\n",
            "Current Target is Q0_TOTAL_STOCKHOLDERS_EQUITY\n",
            "Mean Squared Error (MSE): 1.4226575421625235e+19\n",
            "Root Mean Squared Error (RMSE): 3771813280.3235683\n",
            "R² Score: 0.8998033323590439\n",
            "----------------------------------------\n",
            "Current Target is Q0_GROSS_PROFIT\n",
            "Mean Squared Error (MSE): 1.128144946051984e+17\n",
            "Root Mean Squared Error (RMSE): 335878690.31124675\n",
            "R² Score: 0.9401215301649868\n",
            "----------------------------------------\n",
            "Current Target is Q0_COST_OF_REVENUES\n",
            "Mean Squared Error (MSE): 2.852882675284163e+18\n",
            "Root Mean Squared Error (RMSE): 1689047860.566468\n",
            "R² Score: 0.7524182411374529\n",
            "----------------------------------------\n",
            "Current Target is Q0_REVENUES\n",
            "Mean Squared Error (MSE): 1.4935493393138473e+18\n",
            "Root Mean Squared Error (RMSE): 1222108562.818315\n",
            "R² Score: 0.8785401618110992\n",
            "----------------------------------------\n",
            "Current Target is Q0_OPERATING_INCOME\n",
            "Mean Squared Error (MSE): 2.7203412168015884e+16\n",
            "Root Mean Squared Error (RMSE): 164934569.35408017\n",
            "R² Score: 0.8521471869377326\n",
            "----------------------------------------\n",
            "Current Target is Q0_OPERATING_EXPENSES\n",
            "Mean Squared Error (MSE): 1.4592870325230355e+17\n",
            "Root Mean Squared Error (RMSE): 382006156.0397994\n",
            "R² Score: 0.8949158394508828\n",
            "----------------------------------------\n",
            "Current Target is Q0_EBITDA\n",
            "Mean Squared Error (MSE): 1.10485039086453e+17\n",
            "Root Mean Squared Error (RMSE): 332392898.67031306\n",
            "R² Score: 0.6905971361687333\n",
            "----------------------------------------\n"
          ]
        }
      ]
    },
    {
      "cell_type": "markdown",
      "source": [
        "# Step 3.2: Drop useless parament - [Id]\n",
        "\n",
        "In this part, we will drop the useless parament Id, since Id don't explain any other value's, and also should not be a input value of model, so it can be safe to drop.\n"
      ],
      "metadata": {
        "id": "ShS7LwB9R5-m"
      }
    },
    {
      "cell_type": "code",
      "source": [
        "import pandas as pd\n",
        "import numpy as np"
      ],
      "metadata": {
        "id": "zsKkyRkiR5-m"
      },
      "execution_count": 14,
      "outputs": []
    },
    {
      "cell_type": "code",
      "source": [
        "df = train = pd.read_csv(r\"Encoded_train_data.csv\")"
      ],
      "metadata": {
        "id": "BiK1uaRnR5-m"
      },
      "execution_count": 15,
      "outputs": []
    },
    {
      "cell_type": "code",
      "source": [
        "target_columns = ['Q0_TOTAL_ASSETS',\n",
        " 'Q0_TOTAL_LIABILITIES',\n",
        " 'Q0_TOTAL_STOCKHOLDERS_EQUITY',\n",
        " 'Q0_GROSS_PROFIT',\n",
        " 'Q0_COST_OF_REVENUES',\n",
        " 'Q0_REVENUES',\n",
        " 'Q0_OPERATING_INCOME',\n",
        " 'Q0_OPERATING_EXPENSES',\n",
        " 'Q0_EBITDA']"
      ],
      "metadata": {
        "id": "yJUZuMqPR5-m"
      },
      "execution_count": 16,
      "outputs": []
    },
    {
      "cell_type": "code",
      "source": [
        "columns_to_drop = ['Id']"
      ],
      "metadata": {
        "id": "YrlgnOwPR5-m"
      },
      "execution_count": 17,
      "outputs": []
    },
    {
      "cell_type": "code",
      "source": [
        "import numpy as np\n",
        "from sklearn.model_selection import train_test_split\n",
        "from sklearn.experimental import enable_hist_gradient_boosting\n",
        "from sklearn.ensemble import HistGradientBoostingRegressor\n",
        "from sklearn.metrics import mean_squared_error, r2_score\n",
        "import warnings\n",
        "\n",
        "warnings.filterwarnings(\"ignore\")\n",
        "\n",
        "result_2 = []\n",
        "\n",
        "for i in target_columns:\n",
        "  print(f\"Current Target is {i}\")\n",
        "\n",
        "  X = train.drop(list(target_columns) + list(columns_to_drop), axis=1)\n",
        "  X = pd.get_dummies(X)\n",
        "  y = train[i]\n",
        "\n",
        "  X_train, X_test, y_train, y_test = train_test_split(X, y, test_size=0.2, random_state=42)\n",
        "\n",
        "  model = HistGradientBoostingRegressor(max_iter=100, learning_rate=0.1, random_state=42)\n",
        "  model.fit(X_train, y_train)\n",
        "\n",
        "  y_pred = model.predict(X_test)\n",
        "\n",
        "  # 计算均方误差 (MSE)\n",
        "  mse = mean_squared_error(y_test, y_pred)\n",
        "  print(f\"Mean Squared Error (MSE): {mse}\")\n",
        "\n",
        "  # 计算均方根误差 (RMSE)\n",
        "  rmse = np.sqrt(mse)\n",
        "  print(f\"Root Mean Squared Error (RMSE): {rmse}\")\n",
        "\n",
        "  # 计算 R² 分数\n",
        "  r2 = r2_score(y_test, y_pred)\n",
        "  print(f\"R² Score: {r2}\")\n",
        "  print(\"----------------------------------------\")\n",
        "  result_2.append({\n",
        "      \"Target Element\": i,\n",
        "      \"R2\": r2\n",
        "  })"
      ],
      "metadata": {
        "colab": {
          "base_uri": "https://localhost:8080/"
        },
        "outputId": "175615b5-d5a3-499d-9ee8-2c24632054ed",
        "id": "J-yOeSw5R5-m"
      },
      "execution_count": 19,
      "outputs": [
        {
          "output_type": "stream",
          "name": "stdout",
          "text": [
            "Current Target is Q0_TOTAL_ASSETS\n",
            "Mean Squared Error (MSE): 2.9972897258393637e+19\n",
            "Root Mean Squared Error (RMSE): 5474750885.510101\n",
            "R² Score: 0.9260708933085594\n",
            "----------------------------------------\n",
            "Current Target is Q0_TOTAL_LIABILITIES\n",
            "Mean Squared Error (MSE): 1.1407783727867195e+19\n",
            "Root Mean Squared Error (RMSE): 3377541077.15468\n",
            "R² Score: 0.9109336919590751\n",
            "----------------------------------------\n",
            "Current Target is Q0_TOTAL_STOCKHOLDERS_EQUITY\n",
            "Mean Squared Error (MSE): 1.37856839399613e+19\n",
            "Root Mean Squared Error (RMSE): 3712907747.3001266\n",
            "R² Score: 0.9029084968800051\n",
            "----------------------------------------\n",
            "Current Target is Q0_GROSS_PROFIT\n",
            "Mean Squared Error (MSE): 1.0991929306275336e+17\n",
            "Root Mean Squared Error (RMSE): 331540786.42416435\n",
            "R² Score: 0.9416582142482889\n",
            "----------------------------------------\n",
            "Current Target is Q0_COST_OF_REVENUES\n",
            "Mean Squared Error (MSE): 2.841127027755273e+18\n",
            "Root Mean Squared Error (RMSE): 1685564305.4346142\n",
            "R² Score: 0.7534384316685903\n",
            "----------------------------------------\n",
            "Current Target is Q0_REVENUES\n",
            "Mean Squared Error (MSE): 1.4942168757696584e+18\n",
            "Root Mean Squared Error (RMSE): 1222381640.8019462\n",
            "R² Score: 0.8784858757773045\n",
            "----------------------------------------\n",
            "Current Target is Q0_OPERATING_INCOME\n",
            "Mean Squared Error (MSE): 2.6491147290862104e+16\n",
            "Root Mean Squared Error (RMSE): 162761012.80976996\n",
            "R² Score: 0.856018405926079\n",
            "----------------------------------------\n",
            "Current Target is Q0_OPERATING_EXPENSES\n",
            "Mean Squared Error (MSE): 1.3849964396515717e+17\n",
            "Root Mean Squared Error (RMSE): 372155402.97724706\n",
            "R² Score: 0.9002655509295742\n",
            "----------------------------------------\n",
            "Current Target is Q0_EBITDA\n",
            "Mean Squared Error (MSE): 1.0027253606512245e+17\n",
            "Root Mean Squared Error (RMSE): 316658390.170105\n",
            "R² Score: 0.7191962814268769\n",
            "----------------------------------------\n"
          ]
        }
      ]
    },
    {
      "cell_type": "markdown",
      "source": [
        "# Step 3.3: Drop high correlation columns - [TOTAL_LIABILITIES_AND_EQUITY, fiscal_year_end, TOTAL_CURRENT_ASSETS, TOTAL_NONCURRENT_ASSETS, TOTAL_CURRENT_LIABILITIES, TOTAL_NONCURRENT_LIABILITIES]\n",
        "\n",
        "In this part, we will drop the useless parament Id, since Id don't explain any other value's, and also should not be a input value of model, so it can be safe to drop.\n"
      ],
      "metadata": {
        "id": "lPR0iRZRfDwy"
      }
    },
    {
      "cell_type": "code",
      "source": [
        "import pandas as pd\n",
        "import numpy as np"
      ],
      "metadata": {
        "id": "nKE7qKitfDwy"
      },
      "execution_count": 1,
      "outputs": []
    },
    {
      "cell_type": "code",
      "source": [
        "df = train = pd.read_csv(r\"Encoded_train_data.csv\")"
      ],
      "metadata": {
        "id": "brtyel_FfDwy"
      },
      "execution_count": 4,
      "outputs": []
    },
    {
      "cell_type": "code",
      "source": [
        "target_columns = ['Q0_TOTAL_ASSETS',\n",
        " 'Q0_TOTAL_LIABILITIES',\n",
        " 'Q0_TOTAL_STOCKHOLDERS_EQUITY',\n",
        " 'Q0_GROSS_PROFIT',\n",
        " 'Q0_COST_OF_REVENUES',\n",
        " 'Q0_REVENUES',\n",
        " 'Q0_OPERATING_INCOME',\n",
        " 'Q0_OPERATING_EXPENSES',\n",
        " 'Q0_EBITDA']"
      ],
      "metadata": {
        "id": "Wa-xoanrfDwy"
      },
      "execution_count": 5,
      "outputs": []
    },
    {
      "cell_type": "code",
      "source": [
        "columns_to_drop = ['Id']\n",
        "for i in range(1,11):\n",
        "  columns_to_drop.append(f\"Q{i}_TOTAL_LIABILITIES_AND_EQUITY\")\n",
        "  columns_to_drop.append(f\"Q{i}_fiscal_year_end\")\n",
        "  columns_to_drop.append(f\"Q{i}_TOTAL_CURRENT_ASSETS\")\n",
        "  columns_to_drop.append(f\"Q{i}_TOTAL_NONCURRENT_ASSETS\")\n",
        "  columns_to_drop.append(f\"Q{i}_TOTAL_CURRENT_LIABILITIES\")\n",
        "  columns_to_drop.append(f\"Q{i}_TOTAL_NONCURRENT_LIABILITIES\")"
      ],
      "metadata": {
        "id": "AOp4Am0KfDwz"
      },
      "execution_count": 6,
      "outputs": []
    },
    {
      "cell_type": "code",
      "source": [
        "import numpy as np\n",
        "from sklearn.model_selection import train_test_split\n",
        "from sklearn.experimental import enable_hist_gradient_boosting\n",
        "from sklearn.ensemble import HistGradientBoostingRegressor\n",
        "from sklearn.metrics import mean_squared_error, r2_score\n",
        "import warnings\n",
        "\n",
        "warnings.filterwarnings(\"ignore\")\n",
        "\n",
        "result_3 = []\n",
        "\n",
        "for i in target_columns:\n",
        "  print(f\"Current Target is {i}\")\n",
        "\n",
        "  X = train.drop(list(target_columns) + list(columns_to_drop), axis=1)\n",
        "  X = pd.get_dummies(X)\n",
        "  y = train[i]\n",
        "\n",
        "  X_train, X_test, y_train, y_test = train_test_split(X, y, test_size=0.2, random_state=42)\n",
        "\n",
        "  model = HistGradientBoostingRegressor(max_iter=100, learning_rate=0.1, random_state=42)\n",
        "  model.fit(X_train, y_train)\n",
        "\n",
        "  y_pred = model.predict(X_test)\n",
        "\n",
        "  # 计算均方误差 (MSE)\n",
        "  mse = mean_squared_error(y_test, y_pred)\n",
        "  print(f\"Mean Squared Error (MSE): {mse}\")\n",
        "\n",
        "  # 计算均方根误差 (RMSE)\n",
        "  rmse = np.sqrt(mse)\n",
        "  print(f\"Root Mean Squared Error (RMSE): {rmse}\")\n",
        "\n",
        "  # 计算 R² 分数\n",
        "  r2 = r2_score(y_test, y_pred)\n",
        "  print(f\"R² Score: {r2}\")\n",
        "  print(\"----------------------------------------\")\n",
        "  result_3.append({\n",
        "      \"Target Element\": i,\n",
        "      \"R2\": r2\n",
        "  })"
      ],
      "metadata": {
        "colab": {
          "base_uri": "https://localhost:8080/"
        },
        "outputId": "42688882-db26-4f8a-add0-b57f4409bb22",
        "id": "sXwM-eSMfDwz"
      },
      "execution_count": 7,
      "outputs": [
        {
          "output_type": "stream",
          "name": "stderr",
          "text": [
            "/usr/local/lib/python3.10/dist-packages/sklearn/experimental/enable_hist_gradient_boosting.py:16: UserWarning: Since version 1.0, it is not needed to import enable_hist_gradient_boosting anymore. HistGradientBoostingClassifier and HistGradientBoostingRegressor are now stable and can be normally imported from sklearn.ensemble.\n",
            "  warnings.warn(\n"
          ]
        },
        {
          "output_type": "stream",
          "name": "stdout",
          "text": [
            "Current Target is Q0_TOTAL_ASSETS\n",
            "Mean Squared Error (MSE): 3.3414206035680068e+19\n",
            "Root Mean Squared Error (RMSE): 5780502230.40179\n",
            "R² Score: 0.9175827954926917\n",
            "----------------------------------------\n",
            "Current Target is Q0_TOTAL_LIABILITIES\n",
            "Mean Squared Error (MSE): 8.107376795378104e+18\n",
            "Root Mean Squared Error (RMSE): 2847345570.0666375\n",
            "R² Score: 0.9367016296691315\n",
            "----------------------------------------\n",
            "Current Target is Q0_TOTAL_STOCKHOLDERS_EQUITY\n",
            "Mean Squared Error (MSE): 9.78616662751453e+18\n",
            "Root Mean Squared Error (RMSE): 3128284933.875834\n",
            "R² Score: 0.9310767872101103\n",
            "----------------------------------------\n",
            "Current Target is Q0_GROSS_PROFIT\n",
            "Mean Squared Error (MSE): 1.4501275520524176e+17\n",
            "Root Mean Squared Error (RMSE): 380805403.32989204\n",
            "R² Score: 0.9230316820667731\n",
            "----------------------------------------\n",
            "Current Target is Q0_COST_OF_REVENUES\n",
            "Mean Squared Error (MSE): 2.936286040155602e+18\n",
            "Root Mean Squared Error (RMSE): 1713559465.018825\n",
            "R² Score: 0.7451802457060884\n",
            "----------------------------------------\n",
            "Current Target is Q0_REVENUES\n",
            "Mean Squared Error (MSE): 1.3899252834633354e+18\n",
            "Root Mean Squared Error (RMSE): 1178950924.9597013\n",
            "R² Score: 0.8869671757200357\n",
            "----------------------------------------\n",
            "Current Target is Q0_OPERATING_INCOME\n",
            "Mean Squared Error (MSE): 2.8948914460693748e+16\n",
            "Root Mean Squared Error (RMSE): 170143805.2374924\n",
            "R² Score: 0.8426602364557453\n",
            "----------------------------------------\n",
            "Current Target is Q0_OPERATING_EXPENSES\n",
            "Mean Squared Error (MSE): 2.1798602990424013e+17\n",
            "Root Mean Squared Error (RMSE): 466889740.62859863\n",
            "R² Score: 0.8430269134625491\n",
            "----------------------------------------\n",
            "Current Target is Q0_EBITDA\n",
            "Mean Squared Error (MSE): 6.8580927436015896e+16\n",
            "Root Mean Squared Error (RMSE): 261879604.84928164\n",
            "R² Score: 0.8079456229697857\n",
            "----------------------------------------\n"
          ]
        }
      ]
    },
    {
      "cell_type": "markdown",
      "source": [
        "# Step 3.4: Drop high correlation columns - [TOTAL_LIABILITIES_AND_EQUITY, fiscal_year_end, TOTAL_CURRENT_ASSETS, TOTAL_NONCURRENT_ASSETS, TOTAL_CURRENT_LIABILITIES, TOTAL_NONCURRENT_LIABILITIES, TargetHighPrice, TargetLowPrice, TargetMediaPrice]\n",
        "\n",
        "In this part, we will drop the useless parament Id, since Id don't explain any other value's, and also should not be a input value of model, so it can be safe to drop."
      ],
      "metadata": {
        "id": "e8x6LWKzhYO2"
      }
    },
    {
      "cell_type": "code",
      "source": [
        "import pandas as pd\n",
        "import numpy as np"
      ],
      "metadata": {
        "id": "16xPrOVehYO2"
      },
      "execution_count": 8,
      "outputs": []
    },
    {
      "cell_type": "code",
      "source": [
        "df = train = pd.read_csv(r\"Encoded_train_data.csv\")"
      ],
      "metadata": {
        "id": "K168noH8hYO2"
      },
      "execution_count": 9,
      "outputs": []
    },
    {
      "cell_type": "code",
      "source": [
        "target_columns = ['Q0_TOTAL_ASSETS',\n",
        " 'Q0_TOTAL_LIABILITIES',\n",
        " 'Q0_TOTAL_STOCKHOLDERS_EQUITY',\n",
        " 'Q0_GROSS_PROFIT',\n",
        " 'Q0_COST_OF_REVENUES',\n",
        " 'Q0_REVENUES',\n",
        " 'Q0_OPERATING_INCOME',\n",
        " 'Q0_OPERATING_EXPENSES',\n",
        " 'Q0_EBITDA']"
      ],
      "metadata": {
        "id": "1Ol39S5ShYO2"
      },
      "execution_count": 10,
      "outputs": []
    },
    {
      "cell_type": "code",
      "source": [
        "columns_to_drop = ['Id', 'targetHighPrice', 'targetLowPrice', 'targetMedianPrice']\n",
        "for i in range(1,11):\n",
        "  columns_to_drop.append(f\"Q{i}_TOTAL_LIABILITIES_AND_EQUITY\")\n",
        "  columns_to_drop.append(f\"Q{i}_fiscal_year_end\")\n",
        "  columns_to_drop.append(f\"Q{i}_TOTAL_CURRENT_ASSETS\")\n",
        "  columns_to_drop.append(f\"Q{i}_TOTAL_NONCURRENT_ASSETS\")\n",
        "  columns_to_drop.append(f\"Q{i}_TOTAL_CURRENT_LIABILITIES\")\n",
        "  columns_to_drop.append(f\"Q{i}_TOTAL_NONCURRENT_LIABILITIES\")"
      ],
      "metadata": {
        "id": "jXhoRX5dhYO2"
      },
      "execution_count": 11,
      "outputs": []
    },
    {
      "cell_type": "code",
      "source": [
        "import numpy as np\n",
        "from sklearn.model_selection import train_test_split\n",
        "from sklearn.experimental import enable_hist_gradient_boosting\n",
        "from sklearn.ensemble import HistGradientBoostingRegressor\n",
        "from sklearn.metrics import mean_squared_error, r2_score\n",
        "import warnings\n",
        "\n",
        "warnings.filterwarnings(\"ignore\")\n",
        "\n",
        "result_4 = []\n",
        "\n",
        "for i in target_columns:\n",
        "  print(f\"Current Target is {i}\")\n",
        "\n",
        "  X = train.drop(list(target_columns) + list(columns_to_drop), axis=1)\n",
        "  X = pd.get_dummies(X)\n",
        "  y = train[i]\n",
        "\n",
        "  X_train, X_test, y_train, y_test = train_test_split(X, y, test_size=0.2, random_state=42)\n",
        "\n",
        "  model = HistGradientBoostingRegressor(max_iter=100, learning_rate=0.1, random_state=42)\n",
        "  model.fit(X_train, y_train)\n",
        "\n",
        "  y_pred = model.predict(X_test)\n",
        "\n",
        "  # 计算均方误差 (MSE)\n",
        "  mse = mean_squared_error(y_test, y_pred)\n",
        "  print(f\"Mean Squared Error (MSE): {mse}\")\n",
        "\n",
        "  # 计算均方根误差 (RMSE)\n",
        "  rmse = np.sqrt(mse)\n",
        "  print(f\"Root Mean Squared Error (RMSE): {rmse}\")\n",
        "\n",
        "  # 计算 R² 分数\n",
        "  r2 = r2_score(y_test, y_pred)\n",
        "  print(f\"R² Score: {r2}\")\n",
        "  print(\"----------------------------------------\")\n",
        "  result_4.append({\n",
        "      \"Target Element\": i,\n",
        "      \"R2\": r2\n",
        "  })"
      ],
      "metadata": {
        "colab": {
          "base_uri": "https://localhost:8080/"
        },
        "outputId": "e5553131-dfd9-4d25-9c2e-56c8f5a8b298",
        "id": "bvMyWOHuhYO2"
      },
      "execution_count": 12,
      "outputs": [
        {
          "output_type": "stream",
          "name": "stdout",
          "text": [
            "Current Target is Q0_TOTAL_ASSETS\n",
            "Mean Squared Error (MSE): 3.30849968644068e+19\n",
            "Root Mean Squared Error (RMSE): 5751955916.417197\n",
            "R² Score: 0.9183948004095687\n",
            "----------------------------------------\n",
            "Current Target is Q0_TOTAL_LIABILITIES\n",
            "Mean Squared Error (MSE): 8.288187381287685e+18\n",
            "Root Mean Squared Error (RMSE): 2878921218.3190575\n",
            "R² Score: 0.9352899504397696\n",
            "----------------------------------------\n",
            "Current Target is Q0_TOTAL_STOCKHOLDERS_EQUITY\n",
            "Mean Squared Error (MSE): 1.0283800143260086e+19\n",
            "Root Mean Squared Error (RMSE): 3206836469.6785035\n",
            "R² Score: 0.92757199294259\n",
            "----------------------------------------\n",
            "Current Target is Q0_GROSS_PROFIT\n",
            "Mean Squared Error (MSE): 1.2863412261456142e+17\n",
            "Root Mean Squared Error (RMSE): 358655994.8119666\n",
            "R² Score: 0.9317249573498113\n",
            "----------------------------------------\n",
            "Current Target is Q0_COST_OF_REVENUES\n",
            "Mean Squared Error (MSE): 2.967033143587125e+18\n",
            "Root Mean Squared Error (RMSE): 1722507806.538805\n",
            "R² Score: 0.7425119193800691\n",
            "----------------------------------------\n",
            "Current Target is Q0_REVENUES\n",
            "Mean Squared Error (MSE): 1.430968177275432e+18\n",
            "Root Mean Squared Error (RMSE): 1196230821.0690076\n",
            "R² Score: 0.8836294465202011\n",
            "----------------------------------------\n",
            "Current Target is Q0_OPERATING_INCOME\n",
            "Mean Squared Error (MSE): 2.920527459778801e+16\n",
            "Root Mean Squared Error (RMSE): 170895507.83384567\n",
            "R² Score: 0.841266897738076\n",
            "----------------------------------------\n",
            "Current Target is Q0_OPERATING_EXPENSES\n",
            "Mean Squared Error (MSE): 2.345998251482618e+17\n",
            "Root Mean Squared Error (RMSE): 484355061.03298\n",
            "R² Score: 0.8310632168912553\n",
            "----------------------------------------\n",
            "Current Target is Q0_EBITDA\n",
            "Mean Squared Error (MSE): 8.709582854659869e+16\n",
            "Root Mean Squared Error (RMSE): 295120023.96753544\n",
            "R² Score: 0.7560963999932295\n",
            "----------------------------------------\n"
          ]
        }
      ]
    },
    {
      "cell_type": "markdown",
      "source": [
        "# Step 3.5: Drop high correlation columns - [TOTAL_LIABILITIES_AND_EQUITY, fiscal_year_end, TOTAL_CURRENT_ASSETS, TOTAL_NONCURRENT_ASSETS, TOTAL_CURRENT_LIABILITIES, TOTAL_NONCURRENT_LIABILITIES, TargetHighPrice, TargetLowPrice, TargetMediaPrice]\n",
        "\n",
        "In this part, we will drop the useless parament Id, since Id don't explain any other value's, and also should not be a input value of model, so it can be safe to drop."
      ],
      "metadata": {
        "id": "-uUuYqx5iVEd"
      }
    },
    {
      "cell_type": "code",
      "source": [
        "import pandas as pd\n",
        "import numpy as np"
      ],
      "metadata": {
        "id": "E72GT8XciVEd"
      },
      "execution_count": 13,
      "outputs": []
    },
    {
      "cell_type": "code",
      "source": [
        "df = train = pd.read_csv(r\"Encoded_train_data.csv\")"
      ],
      "metadata": {
        "id": "WCt0ngO9iVEd"
      },
      "execution_count": 14,
      "outputs": []
    },
    {
      "cell_type": "code",
      "source": [
        "target_columns = ['Q0_TOTAL_ASSETS',\n",
        " 'Q0_TOTAL_LIABILITIES',\n",
        " 'Q0_TOTAL_STOCKHOLDERS_EQUITY',\n",
        " 'Q0_GROSS_PROFIT',\n",
        " 'Q0_COST_OF_REVENUES',\n",
        " 'Q0_REVENUES',\n",
        " 'Q0_OPERATING_INCOME',\n",
        " 'Q0_OPERATING_EXPENSES',\n",
        " 'Q0_EBITDA']"
      ],
      "metadata": {
        "id": "i8brouWaiVEd"
      },
      "execution_count": 15,
      "outputs": []
    },
    {
      "cell_type": "code",
      "source": [
        "columns_to_drop = ['Id', 'targetHighPrice', 'targetLowPrice', 'targetMedianPrice', 'Q9_TOTAL_ASSETS', 'Q10_TOTAL_LIABILITIES']\n",
        "for i in range(1,11):\n",
        "  columns_to_drop.append(f\"Q{i}_TOTAL_LIABILITIES_AND_EQUITY\")\n",
        "  columns_to_drop.append(f\"Q{i}_fiscal_year_end\")\n",
        "  columns_to_drop.append(f\"Q{i}_TOTAL_CURRENT_ASSETS\")\n",
        "  columns_to_drop.append(f\"Q{i}_TOTAL_NONCURRENT_ASSETS\")\n",
        "  columns_to_drop.append(f\"Q{i}_TOTAL_CURRENT_LIABILITIES\")\n",
        "  columns_to_drop.append(f\"Q{i}_TOTAL_NONCURRENT_LIABILITIES\")"
      ],
      "metadata": {
        "id": "aPleA5RyiVEd"
      },
      "execution_count": 16,
      "outputs": []
    },
    {
      "cell_type": "code",
      "source": [
        "import numpy as np\n",
        "from sklearn.model_selection import train_test_split\n",
        "from sklearn.experimental import enable_hist_gradient_boosting\n",
        "from sklearn.ensemble import HistGradientBoostingRegressor\n",
        "from sklearn.metrics import mean_squared_error, r2_score\n",
        "import warnings\n",
        "\n",
        "warnings.filterwarnings(\"ignore\")\n",
        "\n",
        "result_5 = []\n",
        "\n",
        "for i in target_columns:\n",
        "  print(f\"Current Target is {i}\")\n",
        "\n",
        "  X = train.drop(list(target_columns) + list(columns_to_drop), axis=1)\n",
        "  X = pd.get_dummies(X)\n",
        "  y = train[i]\n",
        "\n",
        "  X_train, X_test, y_train, y_test = train_test_split(X, y, test_size=0.2, random_state=42)\n",
        "\n",
        "  model = HistGradientBoostingRegressor(max_iter=100, learning_rate=0.1, random_state=42)\n",
        "  model.fit(X_train, y_train)\n",
        "\n",
        "  y_pred = model.predict(X_test)\n",
        "\n",
        "  # 计算均方误差 (MSE)\n",
        "  mse = mean_squared_error(y_test, y_pred)\n",
        "  print(f\"Mean Squared Error (MSE): {mse}\")\n",
        "\n",
        "  # 计算均方根误差 (RMSE)\n",
        "  rmse = np.sqrt(mse)\n",
        "  print(f\"Root Mean Squared Error (RMSE): {rmse}\")\n",
        "\n",
        "  # 计算 R² 分数\n",
        "  r2 = r2_score(y_test, y_pred)\n",
        "  print(f\"R² Score: {r2}\")\n",
        "  print(\"----------------------------------------\")\n",
        "  result_5.append({\n",
        "      \"Target Element\": i,\n",
        "      \"R2\": r2\n",
        "  })"
      ],
      "metadata": {
        "colab": {
          "base_uri": "https://localhost:8080/"
        },
        "outputId": "18bd569e-8b41-41e1-fb4e-2eb2149b8fb2",
        "id": "-M9l38zLiVEe"
      },
      "execution_count": 17,
      "outputs": [
        {
          "output_type": "stream",
          "name": "stdout",
          "text": [
            "Current Target is Q0_TOTAL_ASSETS\n",
            "Mean Squared Error (MSE): 3.1348282225355366e+19\n",
            "Root Mean Squared Error (RMSE): 5598953672.37088\n",
            "R² Score: 0.9226784624371714\n",
            "----------------------------------------\n",
            "Current Target is Q0_TOTAL_LIABILITIES\n",
            "Mean Squared Error (MSE): 8.890649506292716e+18\n",
            "Root Mean Squared Error (RMSE): 2981719219.895246\n",
            "R² Score: 0.9305862254666525\n",
            "----------------------------------------\n",
            "Current Target is Q0_TOTAL_STOCKHOLDERS_EQUITY\n",
            "Mean Squared Error (MSE): 1.019601374618253e+19\n",
            "Root Mean Squared Error (RMSE): 3193119751.306319\n",
            "R² Score: 0.9281902657307135\n",
            "----------------------------------------\n",
            "Current Target is Q0_GROSS_PROFIT\n",
            "Mean Squared Error (MSE): 1.4336832578912926e+17\n",
            "Root Mean Squared Error (RMSE): 378640100.608915\n",
            "R² Score: 0.9239044947096262\n",
            "----------------------------------------\n",
            "Current Target is Q0_COST_OF_REVENUES\n",
            "Mean Squared Error (MSE): 2.9390998136309043e+18\n",
            "Root Mean Squared Error (RMSE): 1714380300.175811\n",
            "R² Score: 0.744936057961499\n",
            "----------------------------------------\n",
            "Current Target is Q0_REVENUES\n",
            "Mean Squared Error (MSE): 1.3902862492340104e+18\n",
            "Root Mean Squared Error (RMSE): 1179104002.7215624\n",
            "R² Score: 0.8869378209187286\n",
            "----------------------------------------\n",
            "Current Target is Q0_OPERATING_INCOME\n",
            "Mean Squared Error (MSE): 2.9291714283176524e+16\n",
            "Root Mean Squared Error (RMSE): 171148223.13765493\n",
            "R² Score: 0.8407970908415743\n",
            "----------------------------------------\n",
            "Current Target is Q0_OPERATING_EXPENSES\n",
            "Mean Squared Error (MSE): 2.2533488099562483e+17\n",
            "Root Mean Squared Error (RMSE): 474694513.3405534\n",
            "R² Score: 0.8377349604010362\n",
            "----------------------------------------\n",
            "Current Target is Q0_EBITDA\n",
            "Mean Squared Error (MSE): 7.882398479092552e+16\n",
            "Root Mean Squared Error (RMSE): 280756094.84199184\n",
            "R² Score: 0.7792609132009175\n",
            "----------------------------------------\n"
          ]
        }
      ]
    }
  ]
}